{
 "cells": [
  {
   "cell_type": "code",
   "execution_count": 2,
   "metadata": {},
   "outputs": [
    {
     "data": {
      "text/plain": [
       "\u001b[32mimport \u001b[39m\u001b[36mscala.concurrent.Future\n",
       "\u001b[39m\n",
       "\u001b[32mimport \u001b[39m\u001b[36mscala.concurrent.ExecutionContext.Implicits.global\n",
       "\u001b[39m\n",
       "\u001b[32mimport \u001b[39m\u001b[36mscala.util.{Failure, Success}\n",
       "\u001b[39m\n",
       "\u001b[32mimport \u001b[39m\u001b[36mscala.util.Random\u001b[39m"
      ]
     },
     "execution_count": 2,
     "metadata": {},
     "output_type": "execute_result"
    }
   ],
   "source": [
    "import scala.concurrent.Future\n",
    "import scala.concurrent.ExecutionContext.Implicits.global\n",
    "import scala.util.{Failure, Success}\n",
    "import scala.util.Random"
   ]
  },
  {
   "cell_type": "code",
   "execution_count": 3,
   "metadata": {},
   "outputs": [
    {
     "data": {
      "text/plain": [
       "defined \u001b[32mclass\u001b[39m \u001b[36mSocket\u001b[39m"
      ]
     },
     "execution_count": 3,
     "metadata": {},
     "output_type": "execute_result"
    }
   ],
   "source": [
    "class Socket {\n",
    "    def readFromMemory(): Future[List[Int]] = Future {\n",
    "        Thread.sleep(2000)\n",
    "        List(1, 2, 3)\n",
    "    }\n",
    "}"
   ]
  },
  {
   "cell_type": "code",
   "execution_count": 4,
   "metadata": {},
   "outputs": [
    {
     "data": {
      "text/plain": [
       "\u001b[36msocket\u001b[39m: \u001b[32mSocket\u001b[39m = $sess.cmd2Wrapper$Helper$Socket@45f0b932"
      ]
     },
     "execution_count": 4,
     "metadata": {},
     "output_type": "execute_result"
    }
   ],
   "source": [
    "val socket = new Socket()"
   ]
  },
  {
   "cell_type": "code",
   "execution_count": 5,
   "metadata": {},
   "outputs": [
    {
     "data": {
      "text/plain": [
       "\u001b[36mstream\u001b[39m: \u001b[32mFuture\u001b[39m[\u001b[32mList\u001b[39m[\u001b[32mInt\u001b[39m]] = Future(<not completed>)"
      ]
     },
     "execution_count": 5,
     "metadata": {},
     "output_type": "execute_result"
    }
   ],
   "source": [
    "var stream = socket.readFromMemory()\n",
    "stream.onComplete {\n",
    "    case Success(value) => println(\"VALUE\")\n",
    "    case Failure(e) => println(\"Error\")\n",
    "}"
   ]
  },
  {
   "cell_type": "code",
   "execution_count": 6,
   "metadata": {},
   "outputs": [
    {
     "data": {
      "text/plain": [
       "defined \u001b[32mfunction\u001b[39m \u001b[36msleep\u001b[39m"
      ]
     },
     "execution_count": 6,
     "metadata": {},
     "output_type": "execute_result"
    }
   ],
   "source": [
    "def sleep(duration: Long) { Thread.sleep(duration) }"
   ]
  },
  {
   "cell_type": "code",
   "execution_count": 7,
   "metadata": {},
   "outputs": [
    {
     "name": "stdout",
     "output_type": "stream",
     "text": [
      "1 - starting calculation ...\n",
      "2- before onComplete\n",
      "A ...\n",
      "B ...\n",
      "C ...\n",
      "D ...\n",
      "E ...\n",
      "Got the callback, meaning = 42\n",
      "F ...\n"
     ]
    },
    {
     "data": {
      "text/plain": [
       "\u001b[32mimport \u001b[39m\u001b[36mscala.concurrent.Future\n",
       "\u001b[39m\n",
       "\u001b[32mimport \u001b[39m\u001b[36mscala.concurrent.ExecutionContext.Implicits.global\n",
       "\u001b[39m\n",
       "\u001b[32mimport \u001b[39m\u001b[36mscala.util.{Failure, Success}\n",
       "\u001b[39m\n",
       "\u001b[32mimport \u001b[39m\u001b[36mscala.util.Random\n",
       "\n",
       "\u001b[39m\n",
       "defined \u001b[32mobject\u001b[39m \u001b[36mFuturesExample3\u001b[39m\n",
       "\u001b[36mres6_5\u001b[39m: \u001b[32mFuturesExample3\u001b[39m.type = $sess.cmd6Wrapper$Helper$FuturesExample3$@78f65904"
      ]
     },
     "execution_count": 7,
     "metadata": {},
     "output_type": "execute_result"
    }
   ],
   "source": [
    "import scala.concurrent.Future\n",
    "import scala.concurrent.ExecutionContext.Implicits.global\n",
    "import scala.util.{Failure, Success}\n",
    "import scala.util.Random\n",
    "\n",
    "object FuturesExample3 {\n",
    "  println(\"1 - starting calculation ...\")\n",
    "  val f = Future {\n",
    "    sleep(Random.nextInt(500))\n",
    "    42\n",
    "  }\n",
    "\n",
    "  println(\"2- before onComplete\")\n",
    "  f.onComplete {\n",
    "    case Success(value) => println(s\"Got the callback, meaning = $value\")\n",
    "    case Failure(e) => e.printStackTrace\n",
    "  }\n",
    "\n",
    "  // do the rest of your work\n",
    "  println(\"A ...\"); sleep(100)\n",
    "  println(\"B ...\"); sleep(100)\n",
    "  println(\"C ...\"); sleep(100)\n",
    "  println(\"D ...\"); sleep(100)\n",
    "  println(\"E ...\"); sleep(100)\n",
    "  println(\"F ...\"); sleep(100)\n",
    "  \n",
    "  // keep the jvm alive (may be needed depending on how you run the example)\n",
    "  //sleep(2000)\n",
    "  \n",
    "  def sleep(duration: Long) { Thread.sleep(duration) }\n",
    "\n",
    "}\n",
    "FuturesExample3"
   ]
  },
  {
   "cell_type": "code",
   "execution_count": null,
   "metadata": {},
   "outputs": [],
   "source": []
  },
  {
   "cell_type": "code",
   "execution_count": null,
   "metadata": {},
   "outputs": [],
   "source": []
  }
 ],
 "metadata": {
  "kernelspec": {
   "display_name": "Scala",
   "language": "scala",
   "name": "scala"
  },
  "language_info": {
   "codemirror_mode": "text/x-scala",
   "file_extension": ".scala",
   "mimetype": "text/x-scala",
   "name": "scala211",
   "nbconvert_exporter": "script",
   "pygments_lexer": "scala",
   "version": "2.11.11"
  }
 },
 "nbformat": 4,
 "nbformat_minor": 2
}
